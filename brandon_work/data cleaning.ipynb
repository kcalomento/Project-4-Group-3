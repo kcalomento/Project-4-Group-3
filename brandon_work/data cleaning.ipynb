{
 "cells": [
  {
   "cell_type": "code",
   "execution_count": 9,
   "metadata": {},
   "outputs": [],
   "source": [
    "import pandas as pd\n",
    "\n",
    "# Load the CSV file into a DataFrame\n",
    "df = pd.read_csv('C:\\\\Users\\\\Saint\\\\Downloads\\\\ml-32m\\\\ml-32m\\\\tags.csv')\n",
    "\n",
    "# Drop duplicates based on the combination of userId, movieId, and timestamp\n",
    "df = df.drop_duplicates(subset=['userId', 'movieId', 'timestamp'])\n",
    "\n",
    "# Drop rows with any null values\n",
    "df = df.dropna()\n",
    "\n",
    "# Save the cleaned DataFrame back to a new CSV file\n",
    "df.to_csv('C:\\\\Users\\\\Saint\\\\Downloads\\\\ml-32m\\\\ml-32m\\\\tags_cleaned.csv', index=False)\n"
   ]
  }
 ],
 "metadata": {
  "kernelspec": {
   "display_name": "base",
   "language": "python",
   "name": "python3"
  },
  "language_info": {
   "codemirror_mode": {
    "name": "ipython",
    "version": 3
   },
   "file_extension": ".py",
   "mimetype": "text/x-python",
   "name": "python",
   "nbconvert_exporter": "python",
   "pygments_lexer": "ipython3",
   "version": "3.12.4"
  }
 },
 "nbformat": 4,
 "nbformat_minor": 2
}
